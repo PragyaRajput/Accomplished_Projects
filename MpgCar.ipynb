{
 "cells": [
  {
   "cell_type": "code",
   "execution_count": 1,
   "metadata": {},
   "outputs": [],
   "source": [
    "import pandas as pd\n",
    "import numpy as np\n",
    "from sklearn import preprocessing,metrics,pipeline,model_selection,ensemble\n",
    "from sklearn_pandas import DataFrameMapper"
   ]
  },
  {
   "cell_type": "code",
   "execution_count": 2,
   "metadata": {},
   "outputs": [],
   "source": [
    "df=pd.read_csv(\"Desktop/mpg_data_example.csv\")"
   ]
  },
  {
   "cell_type": "code",
   "execution_count": 3,
   "metadata": {},
   "outputs": [
    {
     "data": {
      "text/html": [
       "<div>\n",
       "<style scoped>\n",
       "    .dataframe tbody tr th:only-of-type {\n",
       "        vertical-align: middle;\n",
       "    }\n",
       "\n",
       "    .dataframe tbody tr th {\n",
       "        vertical-align: top;\n",
       "    }\n",
       "\n",
       "    .dataframe thead th {\n",
       "        text-align: right;\n",
       "    }\n",
       "</style>\n",
       "<table border=\"1\" class=\"dataframe\">\n",
       "  <thead>\n",
       "    <tr style=\"text-align: right;\">\n",
       "      <th></th>\n",
       "      <th>mpg</th>\n",
       "      <th>cylinders</th>\n",
       "      <th>displacement</th>\n",
       "      <th>horsepower</th>\n",
       "      <th>weight</th>\n",
       "      <th>acceleration</th>\n",
       "      <th>model year</th>\n",
       "      <th>origin</th>\n",
       "      <th>car name</th>\n",
       "    </tr>\n",
       "  </thead>\n",
       "  <tbody>\n",
       "    <tr>\n",
       "      <th>0</th>\n",
       "      <td>18.0</td>\n",
       "      <td>8</td>\n",
       "      <td>307.0</td>\n",
       "      <td>130.0</td>\n",
       "      <td>3504</td>\n",
       "      <td>12.0</td>\n",
       "      <td>70</td>\n",
       "      <td>1</td>\n",
       "      <td>chevrolet chevelle malibu</td>\n",
       "    </tr>\n",
       "    <tr>\n",
       "      <th>1</th>\n",
       "      <td>15.0</td>\n",
       "      <td>8</td>\n",
       "      <td>350.0</td>\n",
       "      <td>165.0</td>\n",
       "      <td>3693</td>\n",
       "      <td>11.5</td>\n",
       "      <td>70</td>\n",
       "      <td>1</td>\n",
       "      <td>buick skylark 320</td>\n",
       "    </tr>\n",
       "    <tr>\n",
       "      <th>2</th>\n",
       "      <td>18.0</td>\n",
       "      <td>8</td>\n",
       "      <td>318.0</td>\n",
       "      <td>150.0</td>\n",
       "      <td>3436</td>\n",
       "      <td>11.0</td>\n",
       "      <td>70</td>\n",
       "      <td>1</td>\n",
       "      <td>plymouth satellite</td>\n",
       "    </tr>\n",
       "    <tr>\n",
       "      <th>3</th>\n",
       "      <td>16.0</td>\n",
       "      <td>8</td>\n",
       "      <td>304.0</td>\n",
       "      <td>150.0</td>\n",
       "      <td>3433</td>\n",
       "      <td>12.0</td>\n",
       "      <td>70</td>\n",
       "      <td>1</td>\n",
       "      <td>amc rebel sst</td>\n",
       "    </tr>\n",
       "    <tr>\n",
       "      <th>4</th>\n",
       "      <td>17.0</td>\n",
       "      <td>8</td>\n",
       "      <td>302.0</td>\n",
       "      <td>140.0</td>\n",
       "      <td>3449</td>\n",
       "      <td>10.5</td>\n",
       "      <td>70</td>\n",
       "      <td>1</td>\n",
       "      <td>ford torino</td>\n",
       "    </tr>\n",
       "  </tbody>\n",
       "</table>\n",
       "</div>"
      ],
      "text/plain": [
       "    mpg  cylinders  displacement  horsepower  weight  acceleration  \\\n",
       "0  18.0          8         307.0       130.0    3504          12.0   \n",
       "1  15.0          8         350.0       165.0    3693          11.5   \n",
       "2  18.0          8         318.0       150.0    3436          11.0   \n",
       "3  16.0          8         304.0       150.0    3433          12.0   \n",
       "4  17.0          8         302.0       140.0    3449          10.5   \n",
       "\n",
       "   model year  origin                   car name  \n",
       "0          70       1  chevrolet chevelle malibu  \n",
       "1          70       1          buick skylark 320  \n",
       "2          70       1         plymouth satellite  \n",
       "3          70       1              amc rebel sst  \n",
       "4          70       1                ford torino  "
      ]
     },
     "execution_count": 3,
     "metadata": {},
     "output_type": "execute_result"
    }
   ],
   "source": [
    "df.head()"
   ]
  },
  {
   "cell_type": "code",
   "execution_count": 4,
   "metadata": {},
   "outputs": [
    {
     "data": {
      "text/html": [
       "<div>\n",
       "<style scoped>\n",
       "    .dataframe tbody tr th:only-of-type {\n",
       "        vertical-align: middle;\n",
       "    }\n",
       "\n",
       "    .dataframe tbody tr th {\n",
       "        vertical-align: top;\n",
       "    }\n",
       "\n",
       "    .dataframe thead th {\n",
       "        text-align: right;\n",
       "    }\n",
       "</style>\n",
       "<table border=\"1\" class=\"dataframe\">\n",
       "  <thead>\n",
       "    <tr style=\"text-align: right;\">\n",
       "      <th></th>\n",
       "      <th>mpg</th>\n",
       "      <th>cylinders</th>\n",
       "      <th>displacement</th>\n",
       "      <th>horsepower</th>\n",
       "      <th>weight</th>\n",
       "      <th>acceleration</th>\n",
       "      <th>model year</th>\n",
       "      <th>origin</th>\n",
       "    </tr>\n",
       "  </thead>\n",
       "  <tbody>\n",
       "    <tr>\n",
       "      <th>count</th>\n",
       "      <td>398.000000</td>\n",
       "      <td>398.000000</td>\n",
       "      <td>398.000000</td>\n",
       "      <td>392.000000</td>\n",
       "      <td>398.000000</td>\n",
       "      <td>398.000000</td>\n",
       "      <td>398.000000</td>\n",
       "      <td>398.000000</td>\n",
       "    </tr>\n",
       "    <tr>\n",
       "      <th>mean</th>\n",
       "      <td>23.514573</td>\n",
       "      <td>5.454774</td>\n",
       "      <td>193.425879</td>\n",
       "      <td>104.469388</td>\n",
       "      <td>2970.424623</td>\n",
       "      <td>15.568090</td>\n",
       "      <td>76.010050</td>\n",
       "      <td>1.572864</td>\n",
       "    </tr>\n",
       "    <tr>\n",
       "      <th>std</th>\n",
       "      <td>7.815984</td>\n",
       "      <td>1.701004</td>\n",
       "      <td>104.269838</td>\n",
       "      <td>38.491160</td>\n",
       "      <td>846.841774</td>\n",
       "      <td>2.757689</td>\n",
       "      <td>3.697627</td>\n",
       "      <td>0.802055</td>\n",
       "    </tr>\n",
       "    <tr>\n",
       "      <th>min</th>\n",
       "      <td>9.000000</td>\n",
       "      <td>3.000000</td>\n",
       "      <td>68.000000</td>\n",
       "      <td>46.000000</td>\n",
       "      <td>1613.000000</td>\n",
       "      <td>8.000000</td>\n",
       "      <td>70.000000</td>\n",
       "      <td>1.000000</td>\n",
       "    </tr>\n",
       "    <tr>\n",
       "      <th>25%</th>\n",
       "      <td>17.500000</td>\n",
       "      <td>4.000000</td>\n",
       "      <td>104.250000</td>\n",
       "      <td>75.000000</td>\n",
       "      <td>2223.750000</td>\n",
       "      <td>13.825000</td>\n",
       "      <td>73.000000</td>\n",
       "      <td>1.000000</td>\n",
       "    </tr>\n",
       "    <tr>\n",
       "      <th>50%</th>\n",
       "      <td>23.000000</td>\n",
       "      <td>4.000000</td>\n",
       "      <td>148.500000</td>\n",
       "      <td>93.500000</td>\n",
       "      <td>2803.500000</td>\n",
       "      <td>15.500000</td>\n",
       "      <td>76.000000</td>\n",
       "      <td>1.000000</td>\n",
       "    </tr>\n",
       "    <tr>\n",
       "      <th>75%</th>\n",
       "      <td>29.000000</td>\n",
       "      <td>8.000000</td>\n",
       "      <td>262.000000</td>\n",
       "      <td>126.000000</td>\n",
       "      <td>3608.000000</td>\n",
       "      <td>17.175000</td>\n",
       "      <td>79.000000</td>\n",
       "      <td>2.000000</td>\n",
       "    </tr>\n",
       "    <tr>\n",
       "      <th>max</th>\n",
       "      <td>46.600000</td>\n",
       "      <td>8.000000</td>\n",
       "      <td>455.000000</td>\n",
       "      <td>230.000000</td>\n",
       "      <td>5140.000000</td>\n",
       "      <td>24.800000</td>\n",
       "      <td>82.000000</td>\n",
       "      <td>3.000000</td>\n",
       "    </tr>\n",
       "  </tbody>\n",
       "</table>\n",
       "</div>"
      ],
      "text/plain": [
       "              mpg   cylinders  displacement  horsepower       weight  \\\n",
       "count  398.000000  398.000000    398.000000  392.000000   398.000000   \n",
       "mean    23.514573    5.454774    193.425879  104.469388  2970.424623   \n",
       "std      7.815984    1.701004    104.269838   38.491160   846.841774   \n",
       "min      9.000000    3.000000     68.000000   46.000000  1613.000000   \n",
       "25%     17.500000    4.000000    104.250000   75.000000  2223.750000   \n",
       "50%     23.000000    4.000000    148.500000   93.500000  2803.500000   \n",
       "75%     29.000000    8.000000    262.000000  126.000000  3608.000000   \n",
       "max     46.600000    8.000000    455.000000  230.000000  5140.000000   \n",
       "\n",
       "       acceleration  model year      origin  \n",
       "count    398.000000  398.000000  398.000000  \n",
       "mean      15.568090   76.010050    1.572864  \n",
       "std        2.757689    3.697627    0.802055  \n",
       "min        8.000000   70.000000    1.000000  \n",
       "25%       13.825000   73.000000    1.000000  \n",
       "50%       15.500000   76.000000    1.000000  \n",
       "75%       17.175000   79.000000    2.000000  \n",
       "max       24.800000   82.000000    3.000000  "
      ]
     },
     "execution_count": 4,
     "metadata": {},
     "output_type": "execute_result"
    }
   ],
   "source": [
    "df.describe()"
   ]
  },
  {
   "cell_type": "code",
   "execution_count": 5,
   "metadata": {},
   "outputs": [
    {
     "data": {
      "text/plain": [
       "array([1, 3, 2], dtype=int64)"
      ]
     },
     "execution_count": 5,
     "metadata": {},
     "output_type": "execute_result"
    }
   ],
   "source": [
    "df['origin'].unique()"
   ]
  },
  {
   "cell_type": "code",
   "execution_count": 53,
   "metadata": {},
   "outputs": [
    {
     "data": {
      "text/plain": [
       "array([8, 4, 6, 3, 5], dtype=int64)"
      ]
     },
     "execution_count": 53,
     "metadata": {},
     "output_type": "execute_result"
    }
   ],
   "source": [
    "df['cylinders'].unique()"
   ]
  },
  {
   "cell_type": "code",
   "execution_count": 54,
   "metadata": {},
   "outputs": [
    {
     "data": {
      "text/plain": [
       "94"
      ]
     },
     "execution_count": 54,
     "metadata": {},
     "output_type": "execute_result"
    }
   ],
   "source": [
    "len(df['horsepower'].unique())"
   ]
  },
  {
   "cell_type": "code",
   "execution_count": 55,
   "metadata": {},
   "outputs": [
    {
     "data": {
      "text/plain": [
       "82"
      ]
     },
     "execution_count": 55,
     "metadata": {},
     "output_type": "execute_result"
    }
   ],
   "source": [
    "len(df['displacement'].unique())"
   ]
  },
  {
   "cell_type": "code",
   "execution_count": 56,
   "metadata": {},
   "outputs": [
    {
     "data": {
      "text/plain": [
       "351"
      ]
     },
     "execution_count": 56,
     "metadata": {},
     "output_type": "execute_result"
    }
   ],
   "source": [
    "len(df['weight'].unique())"
   ]
  },
  {
   "cell_type": "code",
   "execution_count": 57,
   "metadata": {},
   "outputs": [
    {
     "data": {
      "text/plain": [
       "95"
      ]
     },
     "execution_count": 57,
     "metadata": {},
     "output_type": "execute_result"
    }
   ],
   "source": [
    "len(df['acceleration'].unique())"
   ]
  },
  {
   "cell_type": "code",
   "execution_count": 58,
   "metadata": {},
   "outputs": [
    {
     "data": {
      "text/plain": [
       "129"
      ]
     },
     "execution_count": 58,
     "metadata": {},
     "output_type": "execute_result"
    }
   ],
   "source": [
    "len(df['mpg'].unique())"
   ]
  },
  {
   "cell_type": "code",
   "execution_count": 59,
   "metadata": {},
   "outputs": [
    {
     "data": {
      "text/plain": [
       "array([70, 71, 72, 73, 74, 75, 76, 77, 78, 79, 80, 81, 82], dtype=int64)"
      ]
     },
     "execution_count": 59,
     "metadata": {},
     "output_type": "execute_result"
    }
   ],
   "source": [
    "df['model year'].unique()"
   ]
  },
  {
   "cell_type": "code",
   "execution_count": 60,
   "metadata": {},
   "outputs": [
    {
     "data": {
      "text/plain": [
       "mpg             0\n",
       "cylinders       0\n",
       "displacement    0\n",
       "horsepower      6\n",
       "weight          0\n",
       "acceleration    0\n",
       "model year      0\n",
       "origin          0\n",
       "car name        0\n",
       "dtype: int64"
      ]
     },
     "execution_count": 60,
     "metadata": {},
     "output_type": "execute_result"
    }
   ],
   "source": [
    "df.isnull().sum()"
   ]
  },
  {
   "cell_type": "code",
   "execution_count": 63,
   "metadata": {},
   "outputs": [],
   "source": [
    "mapper=DataFrameMapper([\n",
    "    (['cylinders', 'displacement', 'weight','acceleration', 'model year'],preprocessing.StandardScaler()),\n",
    "    \n",
    "    (['origin'],preprocessing.OneHotEncoder(handle_unknown='ignore'))\n",
    "])"
   ]
  },
  {
   "cell_type": "code",
   "execution_count": null,
   "metadata": {},
   "outputs": [],
   "source": []
  },
  {
   "cell_type": "code",
   "execution_count": 64,
   "metadata": {},
   "outputs": [],
   "source": [
    "df['horsepower'] = df['horsepower'].fillna(df['horsepower'].mode()[0])"
   ]
  },
  {
   "cell_type": "code",
   "execution_count": 65,
   "metadata": {},
   "outputs": [
    {
     "data": {
      "text/plain": [
       "mpg             0\n",
       "cylinders       0\n",
       "displacement    0\n",
       "horsepower      0\n",
       "weight          0\n",
       "acceleration    0\n",
       "model year      0\n",
       "origin          0\n",
       "car name        0\n",
       "dtype: int64"
      ]
     },
     "execution_count": 65,
     "metadata": {},
     "output_type": "execute_result"
    }
   ],
   "source": [
    "df.isnull().sum()"
   ]
  },
  {
   "cell_type": "code",
   "execution_count": 66,
   "metadata": {},
   "outputs": [
    {
     "data": {
      "text/plain": [
       "Index(['mpg', 'cylinders', 'displacement', 'horsepower', 'weight',\n",
       "       'acceleration', 'model year', 'origin', 'car name'],\n",
       "      dtype='object')"
      ]
     },
     "execution_count": 66,
     "metadata": {},
     "output_type": "execute_result"
    }
   ],
   "source": [
    "df.columns"
   ]
  },
  {
   "cell_type": "code",
   "execution_count": 67,
   "metadata": {},
   "outputs": [],
   "source": [
    "pipeline_obj=pipeline.Pipeline(\n",
    "[('mapper',mapper),\n",
    "('model',ensemble.RandomForestRegressor())])"
   ]
  },
  {
   "cell_type": "code",
   "execution_count": 68,
   "metadata": {},
   "outputs": [],
   "source": [
    "X=[ 'cylinders', 'displacement', 'horsepower', 'weight',\n",
    "       'acceleration', 'model year', 'origin']\n",
    "y=['mpg']"
   ]
  },
  {
   "cell_type": "code",
   "execution_count": 69,
   "metadata": {},
   "outputs": [
    {
     "name": "stderr",
     "output_type": "stream",
     "text": [
      "C:\\Users\\278\\anaconda3\\lib\\site-packages\\sklearn\\pipeline.py:346: DataConversionWarning: A column-vector y was passed when a 1d array was expected. Please change the shape of y to (n_samples,), for example using ravel().\n",
      "  self._final_estimator.fit(Xt, y, **fit_params_last_step)\n"
     ]
    },
    {
     "data": {
      "text/plain": [
       "Pipeline(steps=[('mapper',\n",
       "                 DataFrameMapper(drop_cols=[],\n",
       "                                 features=[(['cylinders', 'displacement',\n",
       "                                             'weight', 'acceleration',\n",
       "                                             'model year'],\n",
       "                                            StandardScaler()),\n",
       "                                           (['origin'],\n",
       "                                            OneHotEncoder(handle_unknown='ignore'))])),\n",
       "                ('model', RandomForestRegressor())])"
      ]
     },
     "execution_count": 69,
     "metadata": {},
     "output_type": "execute_result"
    }
   ],
   "source": [
    "pipeline_obj.fit(df[X],df[y])"
   ]
  },
  {
   "cell_type": "code",
   "execution_count": 70,
   "metadata": {},
   "outputs": [
    {
     "data": {
      "text/plain": [
       "array([17.272, 14.72 , 17.34 , 16.557, 16.911, 14.52 , 13.71 , 14.26 ,\n",
       "       13.13 , 14.82 , 14.96 , 14.44 , 14.94 , 15.288, 24.   , 21.078,\n",
       "       19.272, 20.763, 26.99 , 26.76 , 24.35 , 24.347, 24.78 , 25.165,\n",
       "       20.798, 10.63 , 10.875, 11.71 ,  9.88 , 27.03 , 26.575, 24.502,\n",
       "       26.245, 19.808, 16.798, 17.441, 18.7  , 18.321, 14.01 , 13.53 ,\n",
       "       14.15 , 14.05 , 12.24 , 12.81 , 12.65 , 18.75 , 21.696, 18.811,\n",
       "       18.5  , 23.424, 27.12 , 29.63 , 29.255, 31.2  , 33.71 , 27.49 ,\n",
       "       27.   , 24.774, 25.905, 23.21 , 20.566, 21.965, 13.6  , 13.6  ,\n",
       "       14.54 , 14.115, 16.115, 11.67 , 12.85 , 12.38 , 13.135, 20.69 ,\n",
       "       14.92 , 13.4  , 13.25 , 14.02 , 19.27 , 22.072, 20.62 , 26.18 ,\n",
       "       22.427, 26.565, 22.906, 27.08 , 26.87 , 13.51 , 14.635, 13.475,\n",
       "       14.02 , 14.65 , 11.99 , 13.175, 13.195, 14.04 , 12.48 , 12.02 ,\n",
       "       13.335, 18.478, 16.365, 18.272, 17.823, 21.87 , 26.493, 11.42 ,\n",
       "       12.18 , 12.85 , 12.545, 18.5  , 22.23 , 20.816, 22.94 , 22.81 ,\n",
       "       20.512, 21.337, 25.94 , 14.29 , 15.035, 28.745, 24.85 , 21.392,\n",
       "       19.872, 15.503, 22.965, 20.314, 12.48 , 20.147, 20.903, 19.43 ,\n",
       "       15.893, 31.018, 25.295, 31.485, 24.77 , 16.136, 16.061, 17.826,\n",
       "       15.225, 13.42 , 13.98 , 13.75 , 14.175, 27.725, 27.605, 26.217,\n",
       "       31.686, 31.623, 27.33 , 25.855, 25.749, 24.232, 25.669, 30.1  ,\n",
       "       19.305, 17.492, 15.883, 15.781, 15.145, 14.905, 15.435, 14.395,\n",
       "       17.187, 16.195, 15.49 , 17.562, 20.551, 19.291, 14.562, 28.53 ,\n",
       "       23.42 , 19.895, 22.671, 23.974, 25.649, 24.061, 18.858, 28.845,\n",
       "       18.673, 23.376, 22.37 , 21.338, 24.055, 32.455, 26.547, 25.28 ,\n",
       "       25.092, 26.068, 27.304, 16.67 , 15.78 , 15.04 , 14.955, 21.403,\n",
       "       20.931, 22.749, 21.646, 29.529, 26.112, 29.156, 32.791, 19.402,\n",
       "       18.57 , 18.285, 18.56 , 29.242, 31.62 , 28.275, 25.75 , 20.129,\n",
       "       13.775, 19.695, 19.473, 16.978, 15.875, 13.56 , 13.633, 14.043,\n",
       "       31.426, 29.864, 33.229, 25.701, 32.63 , 16.574, 17.061, 15.56 ,\n",
       "       15.427, 17.984, 20.177, 19.101, 18.376, 15.835, 15.425, 15.645,\n",
       "       15.663, 29.665, 24.55 , 26.202, 24.76 , 30.627, 32.325, 30.635,\n",
       "       29.694, 21.414, 22.93 , 22.763, 39.916, 35.083, 33.727, 36.815,\n",
       "       35.511, 19.625, 18.656, 19.637, 19.287, 20.159, 20.438, 24.97 ,\n",
       "       20.102, 19.597, 20.302, 20.648, 18.901, 18.786, 19.241, 18.329,\n",
       "       18.245, 17.045, 30.556, 25.799, 26.851, 29.341, 23.123, 23.879,\n",
       "       23.127, 24.791, 21.143, 17.376, 22.5  , 17.311, 31.964, 31.019,\n",
       "       21.36 , 20.73 , 23.393, 20.186, 20.289, 17.258, 18.095, 16.841,\n",
       "       17.748, 16.637, 16.017, 20.301, 17.764, 33.919, 33.905, 35.141,\n",
       "       28.071, 24.871, 20.926, 27.133, 22.775, 34.911, 34.539, 34.099,\n",
       "       36.788, 28.146, 27.466, 25.907, 31.319, 38.961, 37.668, 33.798,\n",
       "       37.135, 27.91 , 25.521, 24.659, 19.826, 34.364, 30.196, 31.86 ,\n",
       "       35.666, 32.873, 43.715, 26.784, 40.649, 43.284, 40.417, 32.391,\n",
       "       28.73 , 40.577, 39.384, 35.341, 32.955, 28.877, 27.809, 34.144,\n",
       "       24.045, 32.752, 28.059, 26.992, 26.331, 24.585, 31.273, 38.489,\n",
       "       37.768, 36.074, 33.605, 36.811, 37.301, 34.597, 34.27 , 34.942,\n",
       "       32.068, 34.052, 34.065, 34.102, 32.987, 32.693, 31.484, 28.244,\n",
       "       27.378, 25.604, 25.281, 21.468, 24.655, 21.234, 18.754, 28.686,\n",
       "       27.992, 32.999, 30.257, 28.788, 27.079, 24.629, 24.127, 35.844,\n",
       "       36.562, 33.059, 37.435, 35.839, 35.906, 35.633, 33.664, 36.359,\n",
       "       33.485, 36.984, 25.017, 31.266, 26.746, 24.282, 30.652, 34.123,\n",
       "       26.015, 26.603, 42.817, 32.311, 28.117, 29.926])"
      ]
     },
     "execution_count": 70,
     "metadata": {},
     "output_type": "execute_result"
    }
   ],
   "source": [
    "pipeline_obj.predict(df[X])"
   ]
  },
  {
   "cell_type": "code",
   "execution_count": 71,
   "metadata": {},
   "outputs": [],
   "source": [
    "import sklearn.externals"
   ]
  },
  {
   "cell_type": "code",
   "execution_count": 72,
   "metadata": {},
   "outputs": [],
   "source": [
    "import joblib"
   ]
  },
  {
   "cell_type": "code",
   "execution_count": 73,
   "metadata": {},
   "outputs": [
    {
     "data": {
      "text/plain": [
       "['RFCar.pkl']"
      ]
     },
     "execution_count": 73,
     "metadata": {},
     "output_type": "execute_result"
    }
   ],
   "source": [
    "joblib.dump(pipeline_obj,'RFCar.pkl')"
   ]
  },
  {
   "cell_type": "code",
   "execution_count": 74,
   "metadata": {},
   "outputs": [],
   "source": [
    "kd=joblib.load('RFCar.pkl')"
   ]
  },
  {
   "cell_type": "code",
   "execution_count": 75,
   "metadata": {},
   "outputs": [
    {
     "data": {
      "text/plain": [
       "array([17.272, 14.72 , 17.34 , 16.557, 16.911, 14.52 , 13.71 , 14.26 ,\n",
       "       13.13 , 14.82 , 14.96 , 14.44 , 14.94 , 15.288, 24.   , 21.078,\n",
       "       19.272, 20.763, 26.99 , 26.76 , 24.35 , 24.347, 24.78 , 25.165,\n",
       "       20.798, 10.63 , 10.875, 11.71 ,  9.88 , 27.03 , 26.575, 24.502,\n",
       "       26.245, 19.808, 16.798, 17.441, 18.7  , 18.321, 14.01 , 13.53 ,\n",
       "       14.15 , 14.05 , 12.24 , 12.81 , 12.65 , 18.75 , 21.696, 18.811,\n",
       "       18.5  , 23.424, 27.12 , 29.63 , 29.255, 31.2  , 33.71 , 27.49 ,\n",
       "       27.   , 24.774, 25.905, 23.21 , 20.566, 21.965, 13.6  , 13.6  ,\n",
       "       14.54 , 14.115, 16.115, 11.67 , 12.85 , 12.38 , 13.135, 20.69 ,\n",
       "       14.92 , 13.4  , 13.25 , 14.02 , 19.27 , 22.072, 20.62 , 26.18 ,\n",
       "       22.427, 26.565, 22.906, 27.08 , 26.87 , 13.51 , 14.635, 13.475,\n",
       "       14.02 , 14.65 , 11.99 , 13.175, 13.195, 14.04 , 12.48 , 12.02 ,\n",
       "       13.335, 18.478, 16.365, 18.272, 17.823, 21.87 , 26.493, 11.42 ,\n",
       "       12.18 , 12.85 , 12.545, 18.5  , 22.23 , 20.816, 22.94 , 22.81 ,\n",
       "       20.512, 21.337, 25.94 , 14.29 , 15.035, 28.745, 24.85 , 21.392,\n",
       "       19.872, 15.503, 22.965, 20.314, 12.48 , 20.147, 20.903, 19.43 ,\n",
       "       15.893, 31.018, 25.295, 31.485, 24.77 , 16.136, 16.061, 17.826,\n",
       "       15.225, 13.42 , 13.98 , 13.75 , 14.175, 27.725, 27.605, 26.217,\n",
       "       31.686, 31.623, 27.33 , 25.855, 25.749, 24.232, 25.669, 30.1  ,\n",
       "       19.305, 17.492, 15.883, 15.781, 15.145, 14.905, 15.435, 14.395,\n",
       "       17.187, 16.195, 15.49 , 17.562, 20.551, 19.291, 14.562, 28.53 ,\n",
       "       23.42 , 19.895, 22.671, 23.974, 25.649, 24.061, 18.858, 28.845,\n",
       "       18.673, 23.376, 22.37 , 21.338, 24.055, 32.455, 26.547, 25.28 ,\n",
       "       25.092, 26.068, 27.304, 16.67 , 15.78 , 15.04 , 14.955, 21.403,\n",
       "       20.931, 22.749, 21.646, 29.529, 26.112, 29.156, 32.791, 19.402,\n",
       "       18.57 , 18.285, 18.56 , 29.242, 31.62 , 28.275, 25.75 , 20.129,\n",
       "       13.775, 19.695, 19.473, 16.978, 15.875, 13.56 , 13.633, 14.043,\n",
       "       31.426, 29.864, 33.229, 25.701, 32.63 , 16.574, 17.061, 15.56 ,\n",
       "       15.427, 17.984, 20.177, 19.101, 18.376, 15.835, 15.425, 15.645,\n",
       "       15.663, 29.665, 24.55 , 26.202, 24.76 , 30.627, 32.325, 30.635,\n",
       "       29.694, 21.414, 22.93 , 22.763, 39.916, 35.083, 33.727, 36.815,\n",
       "       35.511, 19.625, 18.656, 19.637, 19.287, 20.159, 20.438, 24.97 ,\n",
       "       20.102, 19.597, 20.302, 20.648, 18.901, 18.786, 19.241, 18.329,\n",
       "       18.245, 17.045, 30.556, 25.799, 26.851, 29.341, 23.123, 23.879,\n",
       "       23.127, 24.791, 21.143, 17.376, 22.5  , 17.311, 31.964, 31.019,\n",
       "       21.36 , 20.73 , 23.393, 20.186, 20.289, 17.258, 18.095, 16.841,\n",
       "       17.748, 16.637, 16.017, 20.301, 17.764, 33.919, 33.905, 35.141,\n",
       "       28.071, 24.871, 20.926, 27.133, 22.775, 34.911, 34.539, 34.099,\n",
       "       36.788, 28.146, 27.466, 25.907, 31.319, 38.961, 37.668, 33.798,\n",
       "       37.135, 27.91 , 25.521, 24.659, 19.826, 34.364, 30.196, 31.86 ,\n",
       "       35.666, 32.873, 43.715, 26.784, 40.649, 43.284, 40.417, 32.391,\n",
       "       28.73 , 40.577, 39.384, 35.341, 32.955, 28.877, 27.809, 34.144,\n",
       "       24.045, 32.752, 28.059, 26.992, 26.331, 24.585, 31.273, 38.489,\n",
       "       37.768, 36.074, 33.605, 36.811, 37.301, 34.597, 34.27 , 34.942,\n",
       "       32.068, 34.052, 34.065, 34.102, 32.987, 32.693, 31.484, 28.244,\n",
       "       27.378, 25.604, 25.281, 21.468, 24.655, 21.234, 18.754, 28.686,\n",
       "       27.992, 32.999, 30.257, 28.788, 27.079, 24.629, 24.127, 35.844,\n",
       "       36.562, 33.059, 37.435, 35.839, 35.906, 35.633, 33.664, 36.359,\n",
       "       33.485, 36.984, 25.017, 31.266, 26.746, 24.282, 30.652, 34.123,\n",
       "       26.015, 26.603, 42.817, 32.311, 28.117, 29.926])"
      ]
     },
     "execution_count": 75,
     "metadata": {},
     "output_type": "execute_result"
    }
   ],
   "source": [
    "kd.predict(df[X])"
   ]
  },
  {
   "cell_type": "code",
   "execution_count": 76,
   "metadata": {},
   "outputs": [],
   "source": [
    "temp={}\n",
    "temp['cylinders']=1\n",
    "temp['displacement']=2\n",
    "temp['horsepower'] = 3\n",
    "temp['weight']=4\n",
    "temp['acceleration'] =5\n",
    "temp['model year']=6\n",
    "temp['origin'] =1\n",
    "\n"
   ]
  },
  {
   "cell_type": "code",
   "execution_count": 77,
   "metadata": {},
   "outputs": [],
   "source": [
    "testData=pd.DataFrame({'x':temp}).transpose()"
   ]
  },
  {
   "cell_type": "code",
   "execution_count": 78,
   "metadata": {},
   "outputs": [
    {
     "data": {
      "text/html": [
       "<div>\n",
       "<style scoped>\n",
       "    .dataframe tbody tr th:only-of-type {\n",
       "        vertical-align: middle;\n",
       "    }\n",
       "\n",
       "    .dataframe tbody tr th {\n",
       "        vertical-align: top;\n",
       "    }\n",
       "\n",
       "    .dataframe thead th {\n",
       "        text-align: right;\n",
       "    }\n",
       "</style>\n",
       "<table border=\"1\" class=\"dataframe\">\n",
       "  <thead>\n",
       "    <tr style=\"text-align: right;\">\n",
       "      <th></th>\n",
       "      <th>acceleration</th>\n",
       "      <th>cylinders</th>\n",
       "      <th>displacement</th>\n",
       "      <th>horsepower</th>\n",
       "      <th>model year</th>\n",
       "      <th>origin</th>\n",
       "      <th>weight</th>\n",
       "    </tr>\n",
       "  </thead>\n",
       "  <tbody>\n",
       "    <tr>\n",
       "      <th>x</th>\n",
       "      <td>5</td>\n",
       "      <td>1</td>\n",
       "      <td>2</td>\n",
       "      <td>3</td>\n",
       "      <td>6</td>\n",
       "      <td>1</td>\n",
       "      <td>4</td>\n",
       "    </tr>\n",
       "  </tbody>\n",
       "</table>\n",
       "</div>"
      ],
      "text/plain": [
       "   acceleration  cylinders  displacement  horsepower  model year  origin  \\\n",
       "x             5          1             2           3           6       1   \n",
       "\n",
       "   weight  \n",
       "x       4  "
      ]
     },
     "execution_count": 78,
     "metadata": {},
     "output_type": "execute_result"
    }
   ],
   "source": [
    "testData"
   ]
  },
  {
   "cell_type": "code",
   "execution_count": 79,
   "metadata": {},
   "outputs": [
    {
     "data": {
      "text/plain": [
       "29.083"
      ]
     },
     "execution_count": 79,
     "metadata": {},
     "output_type": "execute_result"
    }
   ],
   "source": [
    "kd.predict(testData)[0]"
   ]
  },
  {
   "cell_type": "code",
   "execution_count": null,
   "metadata": {},
   "outputs": [],
   "source": []
  },
  {
   "cell_type": "code",
   "execution_count": null,
   "metadata": {},
   "outputs": [],
   "source": []
  }
 ],
 "metadata": {
  "kernelspec": {
   "display_name": "Python 3",
   "language": "python",
   "name": "python3"
  },
  "language_info": {
   "codemirror_mode": {
    "name": "ipython",
    "version": 3
   },
   "file_extension": ".py",
   "mimetype": "text/x-python",
   "name": "python",
   "nbconvert_exporter": "python",
   "pygments_lexer": "ipython3",
   "version": "3.8.5"
  }
 },
 "nbformat": 4,
 "nbformat_minor": 4
}
